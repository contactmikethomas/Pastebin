{
 "cells": [
  {
   "cell_type": "markdown",
   "metadata": {},
   "source": [
    "<h1>Pastebin Webscraping</h1>"
   ]
  },
  {
   "cell_type": "markdown",
   "metadata": {},
   "source": [
    "<h2>Importing libraries</h2>"
   ]
  },
  {
   "cell_type": "code",
   "execution_count": 1,
   "metadata": {
    "scrolled": true
   },
   "outputs": [],
   "source": [
    "import scrapy\n",
    "from scrapy.crawler import CrawlerProcess\n",
    "import mysql.connector\n",
    "import getpass\n",
    "from datetime import datetime"
   ]
  },
  {
   "cell_type": "code",
   "execution_count": 2,
   "metadata": {},
   "outputs": [
    {
     "name": "stdout",
     "output_type": "stream",
     "text": [
      "Password:········\n"
     ]
    }
   ],
   "source": [
    "pswd = getpass.getpass('Password:')"
   ]
  },
  {
   "cell_type": "markdown",
   "metadata": {},
   "source": [
    "*If you ever needed to re-create the table...*"
   ]
  },
  {
   "cell_type": "markdown",
   "metadata": {},
   "source": [
    "try:\n",
    "    cnx = mysql.connector.connect(host=\"aintnodatabase.c3hfm1hvxqhx.eu-west-2.rds.amazonaws.com\",port=3306,database=\"pastebin\",user=\"root\",password=pswd)\n",
    "    cursor = cnx.cursor(buffered=True)\n",
    "    cursor.execute(\"CREATE TABLE pastebin (LINK varchar(20), TIME varchar(40))\")\n",
    "\n",
    "except mysql.connector.Error as err:\n",
    "    print(str(err))\n",
    "else:\n",
    "    cursor.close()\n",
    "    cnx.close()"
   ]
  },
  {
   "cell_type": "markdown",
   "metadata": {},
   "source": [
    "<h2>Defining the Webscraping Spider</h2>"
   ]
  },
  {
   "cell_type": "code",
   "execution_count": 3,
   "metadata": {},
   "outputs": [],
   "source": [
    "class MySpider(scrapy.Spider):\n",
    "    name = \"Pastebin\"\n",
    "    \n",
    "    custom_settings = {\n",
    "        'DOWNLOAD_DELAY': 15,\n",
    "    }\n",
    "    \n",
    "    \n",
    "    def __init__(self, *args, **kwargs):\n",
    "        super(MySpider, self).__init__(*args, **kwargs) \n",
    "        self.pswd=[kwargs.get('pswd')] \n",
    "    \n",
    "    def start_requests(self):\n",
    "        i = 0\n",
    "        \n",
    "        seed_url = \"https://pastebin.com\"\n",
    "        for i in range(4):\n",
    "            i+1      \n",
    "            yield scrapy.Request(url=seed_url, callback=self.parse, dont_filter=True)\n",
    "        \n",
    "    def parse(self, response):\n",
    "        \n",
    "        def commitSql(page_link_unique):\n",
    "            try:\n",
    "                cnx = mysql.connector.connect(host=\"aintnodatabase.c3hfm1hvxqhx.eu-west-2.rds.amazonaws.com\",port=3306,database=\"pastebin\",user=\"root\",password=pswd)\n",
    "                cursor = cnx.cursor(buffered=True)\n",
    "                for link in page_link_unique:\n",
    "                    query = \"INSERT INTO pastebin (LINK, TIME) VALUES ('\"+link+\"','\"+str(datetime.now())+\"')\"\n",
    "                    cursor.execute(query)\n",
    "                cnx.commit()\n",
    "            except mysql.connector.Error as err:\n",
    "                print(str(err))\n",
    "            else:\n",
    "                cursor.close()\n",
    "                cnx.close()\n",
    "\n",
    "        p_link = [response.xpath('//ul/li//@href').extract()]\n",
    "        new_link = []\n",
    "        [new_link.append(a.encode('ascii','ignore')) for a in p_link[0]]\n",
    "        commitSql(list(set(new_link) - set(page_link)))\n",
    "        [page_link.append(a.encode('ascii','ignore')) for a in p_link[0]][-9:]"
   ]
  },
  {
   "cell_type": "markdown",
   "metadata": {},
   "source": [
    "<h2>Running the Webscraping</h2>\n",
    "\n",
    "Note, you can't re run the code below in a single session for one reason or another, so you need to restart the kernel between runs.\n",
    "\n",
    "This code creates a lightweight container for our webspider and then runs it - to be honest understanding this is probably optional unless it breaks."
   ]
  },
  {
   "cell_type": "code",
   "execution_count": 4,
   "metadata": {
    "scrolled": true
   },
   "outputs": [
    {
     "name": "stderr",
     "output_type": "stream",
     "text": [
      "2018-07-04 10:49:38 [scrapy.utils.log] INFO: Scrapy 1.5.0 started (bot: scrapybot)\n",
      "2018-07-04 10:49:38 [scrapy.utils.log] INFO: Versions: lxml 4.2.3.0, libxml2 2.9.8, cssselect 1.0.3, parsel 1.4.0, w3lib 1.19.0, Twisted 17.9.0, Python 2.7.15rc1 (default, Apr 15 2018, 21:51:34) - [GCC 7.3.0], pyOpenSSL 17.5.0 (OpenSSL 1.1.0g  2 Nov 2017), cryptography 2.1.4, Platform Linux-4.15.0-24-generic-x86_64-with-Ubuntu-18.04-bionic\n",
      "2018-07-04 10:49:38 [scrapy.crawler] INFO: Overridden settings: {'DOWNLOAD_DELAY': 15}\n",
      "2018-07-04 10:49:38 [scrapy.middleware] INFO: Enabled extensions:\n",
      "['scrapy.extensions.memusage.MemoryUsage',\n",
      " 'scrapy.extensions.logstats.LogStats',\n",
      " 'scrapy.extensions.telnet.TelnetConsole',\n",
      " 'scrapy.extensions.corestats.CoreStats']\n",
      "2018-07-04 10:49:38 [scrapy.middleware] INFO: Enabled downloader middlewares:\n",
      "['scrapy.downloadermiddlewares.httpauth.HttpAuthMiddleware',\n",
      " 'scrapy.downloadermiddlewares.downloadtimeout.DownloadTimeoutMiddleware',\n",
      " 'scrapy.downloadermiddlewares.defaultheaders.DefaultHeadersMiddleware',\n",
      " 'scrapy.downloadermiddlewares.useragent.UserAgentMiddleware',\n",
      " 'scrapy.downloadermiddlewares.retry.RetryMiddleware',\n",
      " 'scrapy.downloadermiddlewares.redirect.MetaRefreshMiddleware',\n",
      " 'scrapy.downloadermiddlewares.httpcompression.HttpCompressionMiddleware',\n",
      " 'scrapy.downloadermiddlewares.redirect.RedirectMiddleware',\n",
      " 'scrapy.downloadermiddlewares.cookies.CookiesMiddleware',\n",
      " 'scrapy.downloadermiddlewares.httpproxy.HttpProxyMiddleware',\n",
      " 'scrapy.downloadermiddlewares.stats.DownloaderStats']\n",
      "2018-07-04 10:49:38 [scrapy.middleware] INFO: Enabled spider middlewares:\n",
      "['scrapy.spidermiddlewares.httperror.HttpErrorMiddleware',\n",
      " 'scrapy.spidermiddlewares.offsite.OffsiteMiddleware',\n",
      " 'scrapy.spidermiddlewares.referer.RefererMiddleware',\n",
      " 'scrapy.spidermiddlewares.urllength.UrlLengthMiddleware',\n",
      " 'scrapy.spidermiddlewares.depth.DepthMiddleware']\n",
      "2018-07-04 10:49:38 [scrapy.middleware] INFO: Enabled item pipelines:\n",
      "[]\n",
      "2018-07-04 10:49:38 [scrapy.core.engine] INFO: Spider opened\n",
      "2018-07-04 10:49:38 [scrapy.extensions.logstats] INFO: Crawled 0 pages (at 0 pages/min), scraped 0 items (at 0 items/min)\n",
      "2018-07-04 10:49:38 [scrapy.extensions.telnet] DEBUG: Telnet console listening on 127.0.0.1:6024\n",
      "2018-07-04 10:49:38 [scrapy.core.engine] DEBUG: Crawled (200) <GET https://pastebin.com> (referer: None)\n",
      "2018-07-04 10:49:58 [scrapy.core.engine] DEBUG: Crawled (200) <GET https://pastebin.com> (referer: None)\n",
      "2018-07-04 10:50:13 [scrapy.core.engine] DEBUG: Crawled (200) <GET https://pastebin.com> (referer: None)\n",
      "2018-07-04 10:50:31 [scrapy.core.engine] DEBUG: Crawled (200) <GET https://pastebin.com> (referer: None)\n",
      "2018-07-04 10:50:32 [scrapy.core.engine] INFO: Closing spider (finished)\n",
      "2018-07-04 10:50:32 [scrapy.statscollectors] INFO: Dumping Scrapy stats:\n",
      "{'downloader/request_bytes': 844,\n",
      " 'downloader/request_count': 4,\n",
      " 'downloader/request_method_count/GET': 4,\n",
      " 'downloader/response_bytes': 36061,\n",
      " 'downloader/response_count': 4,\n",
      " 'downloader/response_status_count/200': 4,\n",
      " 'finish_reason': 'finished',\n",
      " 'finish_time': datetime.datetime(2018, 7, 4, 9, 50, 32, 213458),\n",
      " 'log_count/DEBUG': 5,\n",
      " 'log_count/INFO': 7,\n",
      " 'memusage/max': 68657152,\n",
      " 'memusage/startup': 68657152,\n",
      " 'response_received_count': 4,\n",
      " 'scheduler/dequeued': 4,\n",
      " 'scheduler/dequeued/memory': 4,\n",
      " 'scheduler/enqueued': 4,\n",
      " 'scheduler/enqueued/memory': 4,\n",
      " 'start_time': datetime.datetime(2018, 7, 4, 9, 49, 38, 701797)}\n",
      "2018-07-04 10:50:32 [scrapy.core.engine] INFO: Spider closed (finished)\n"
     ]
    }
   ],
   "source": [
    "page_link = []\n",
    "\n",
    "process = CrawlerProcess()\n",
    "process.crawl(MySpider, pswd=pswd)\n",
    "process.start()"
   ]
  },
  {
   "cell_type": "code",
   "execution_count": null,
   "metadata": {
    "collapsed": true
   },
   "outputs": [],
   "source": []
  }
 ],
 "metadata": {
  "anaconda-cloud": {},
  "kernelspec": {
   "display_name": "Python 2",
   "language": "python",
   "name": "python2"
  },
  "language_info": {
   "codemirror_mode": {
    "name": "ipython",
    "version": 2
   },
   "file_extension": ".py",
   "mimetype": "text/x-python",
   "name": "python",
   "nbconvert_exporter": "python",
   "pygments_lexer": "ipython2",
   "version": "2.7.15rc1"
  }
 },
 "nbformat": 4,
 "nbformat_minor": 1
}
