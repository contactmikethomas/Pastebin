{
 "cells": [
  {
   "cell_type": "markdown",
   "metadata": {},
   "source": [
    "<h1>Pastebin Webscraping: Content</h1>"
   ]
  },
  {
   "cell_type": "markdown",
   "metadata": {},
   "source": [
    "<h2>Importing libraries</h2>"
   ]
  },
  {
   "cell_type": "code",
   "execution_count": 1,
   "metadata": {
    "collapsed": false,
    "scrolled": true
   },
   "outputs": [],
   "source": [
    "import scrapy\n",
    "from scrapy.crawler import CrawlerProcess\n",
    "import mysql.connector\n",
    "import getpass"
   ]
  },
  {
   "cell_type": "code",
   "execution_count": 2,
   "metadata": {
    "collapsed": false
   },
   "outputs": [
    {
     "name": "stdout",
     "output_type": "stream",
     "text": [
      "Password:········\n"
     ]
    }
   ],
   "source": [
    "pswd = getpass.getpass('Password:')"
   ]
  },
  {
   "cell_type": "markdown",
   "metadata": {},
   "source": [
    "*If you ever needed to re-create the table...*"
   ]
  },
  {
   "cell_type": "markdown",
   "metadata": {},
   "source": [
    "try:\n",
    "    cnx = mysql.connector.connect(host=\"aintnodatabase.c3hfm1hvxqhx.eu-west-2.rds.amazonaws.com\",port=3306,database=\"pastebin\",user=\"root\",password=pswd)\n",
    "    cursor = cnx.cursor(buffered=True)\n",
    "    cursor.execute(\"CREATE TABLE pastebincontent (LINK varchar(40), TEXT varchar(60000))\")\n",
    "except mysql.connector.Error as err:\n",
    "    print(str(err))\n",
    "else:\n",
    "    cursor.close()\n",
    "    cnx.close()"
   ]
  },
  {
   "cell_type": "markdown",
   "metadata": {},
   "source": [
    "<h2>Defining the Webscraping Spider</h2>"
   ]
  },
  {
   "cell_type": "code",
   "execution_count": 3,
   "metadata": {
    "collapsed": false
   },
   "outputs": [],
   "source": [
    "class MySpider(scrapy.Spider):\n",
    "    name = \"Pastebin\"\n",
    "\n",
    "    custom_settings = {\n",
    "        'DOWNLOAD_DELAY': 2,\n",
    "        'RETRY_TIMES' : 3\n",
    "    }\n",
    "    \n",
    "    def start_requests(self):\n",
    "        \n",
    "        while 1 == 1:\n",
    "            try:\n",
    "                cnx = mysql.connector.connect(host=\"aintnodatabase.c3hfm1hvxqhx.eu-west-2.rds.amazonaws.com\",port=3306,database=\"pastebin\",user=\"root\",password=pswd)\n",
    "                cursor = cnx.cursor(buffered=True)\n",
    "                cursor.execute(\"SELECT * FROM pastebin\")\n",
    "                result = cursor.fetchall()\n",
    "            except mysql.connector.Error as err:\n",
    "                print(str(err))\n",
    "            else:\n",
    "                cursor.close()\n",
    "                cnx.close()\n",
    "\n",
    "            for link in result:\n",
    "                try:\n",
    "                    cnx = mysql.connector.connect(host=\"aintnodatabase.c3hfm1hvxqhx.eu-west-2.rds.amazonaws.com\",port=3306,database=\"pastebin\",user=\"root\",password=pswd)\n",
    "                    cursor = cnx.cursor(buffered=True)\n",
    "                    query = \"DELETE FROM pastebin WHERE LINK = '\"+link[0]+\"'\"\n",
    "                    cursor.execute(query)\n",
    "                    cnx.commit()\n",
    "                except mysql.connector.Error as err:\n",
    "                    print(str(err))\n",
    "                else:\n",
    "                    cursor.close()\n",
    "                    cnx.close()\n",
    "\n",
    "                yield scrapy.Request(url=\"https://pastebin.com\"+link[0].encode('ascii','ignore'), callback=self.parse, dont_filter=True)\n",
    "        \n",
    "    def parse(self, response):\n",
    "        targets = [\"gsi.gov.uk\",\"spotify\",\"netflix\",\"steam key\",\"minecraft nfa\",\"deezer\",\"crunchyroll\",\"mcnfa\",\"hulu\",\"hma key\",\"fortnite\",\"nordvpn\"]\n",
    "        content = response.xpath('//textarea//text()').extract()[0]\n",
    "        \n",
    "        if any(x in content.lower() for x in targets):\n",
    "            try:\n",
    "                cnx = mysql.connector.connect(host=\"aintnodatabase.c3hfm1hvxqhx.eu-west-2.rds.amazonaws.com\",port=3306,database=\"pastebin\",user=\"root\",password=pswd)\n",
    "                cursor = cnx.cursor(buffered=True)\n",
    "                query = \"INSERT INTO pastebincontent (LINK, TEXT) VALUES ('\"+response.request.url+\"', '\"+content.encode('hex')+\"')\"\n",
    "                cursor.execute(query)\n",
    "                cnx.commit()\n",
    "            except mysql.connector.Error as err:\n",
    "                print(str(err))\n",
    "            else:\n",
    "                cursor.close()\n",
    "                cnx.close()"
   ]
  },
  {
   "cell_type": "markdown",
   "metadata": {},
   "source": [
    "<h2>Running the Webscraping</h2>\n",
    "\n",
    "Note, you can't re run the code below in a single session for one reason or another, so you need to restart the kernel between runs.\n",
    "\n",
    "This code creates a lightweight container for our webspider and then runs it - to be honest understanding this is probably optional unless it breaks."
   ]
  },
  {
   "cell_type": "code",
   "execution_count": null,
   "metadata": {
    "collapsed": false,
    "scrolled": true
   },
   "outputs": [
    {
     "name": "stderr",
     "output_type": "stream",
     "text": [
      "2018-05-01 18:40:41 [scrapy.utils.log] INFO: Scrapy 1.3.3 started (bot: scrapybot)\n",
      "2018-05-01 18:40:41 [scrapy.utils.log] INFO: Overridden settings: {}\n",
      "2018-05-01 18:40:41 [scrapy.middleware] INFO: Enabled extensions:\n",
      "['scrapy.extensions.logstats.LogStats',\n",
      " 'scrapy.extensions.telnet.TelnetConsole',\n",
      " 'scrapy.extensions.corestats.CoreStats']\n",
      "2018-05-01 18:40:41 [scrapy.middleware] INFO: Enabled downloader middlewares:\n",
      "['scrapy.downloadermiddlewares.httpauth.HttpAuthMiddleware',\n",
      " 'scrapy.downloadermiddlewares.downloadtimeout.DownloadTimeoutMiddleware',\n",
      " 'scrapy.downloadermiddlewares.defaultheaders.DefaultHeadersMiddleware',\n",
      " 'scrapy.downloadermiddlewares.useragent.UserAgentMiddleware',\n",
      " 'scrapy.downloadermiddlewares.retry.RetryMiddleware',\n",
      " 'scrapy.downloadermiddlewares.redirect.MetaRefreshMiddleware',\n",
      " 'scrapy.downloadermiddlewares.httpcompression.HttpCompressionMiddleware',\n",
      " 'scrapy.downloadermiddlewares.redirect.RedirectMiddleware',\n",
      " 'scrapy.downloadermiddlewares.cookies.CookiesMiddleware',\n",
      " 'scrapy.downloadermiddlewares.stats.DownloaderStats']\n",
      "2018-05-01 18:40:41 [scrapy.middleware] INFO: Enabled spider middlewares:\n",
      "['scrapy.spidermiddlewares.httperror.HttpErrorMiddleware',\n",
      " 'scrapy.spidermiddlewares.offsite.OffsiteMiddleware',\n",
      " 'scrapy.spidermiddlewares.referer.RefererMiddleware',\n",
      " 'scrapy.spidermiddlewares.urllength.UrlLengthMiddleware',\n",
      " 'scrapy.spidermiddlewares.depth.DepthMiddleware']\n",
      "2018-05-01 18:40:41 [scrapy.middleware] INFO: Enabled item pipelines:\n",
      "[]\n",
      "2018-05-01 18:40:41 [scrapy.core.engine] INFO: Spider opened\n",
      "2018-05-01 18:40:41 [scrapy.extensions.logstats] INFO: Crawled 0 pages (at 0 pages/min), scraped 0 items (at 0 items/min)\n",
      "2018-05-01 18:40:41 [scrapy.extensions.telnet] DEBUG: Telnet console listening on 127.0.0.1:6025\n",
      "2018-05-01 18:40:46 [scrapy.core.engine] DEBUG: Crawled (200) <GET https://pastebin.com/0h0iDJyc> (referer: None)\n",
      "2018-05-01 18:40:50 [scrapy.core.engine] DEBUG: Crawled (200) <GET https://pastebin.com/JAbQS9Bg> (referer: None)\n",
      "2018-05-01 18:40:50 [scrapy.core.engine] DEBUG: Crawled (200) <GET https://pastebin.com/8jcAxtFg> (referer: None)\n",
      "2018-05-01 18:40:53 [scrapy.core.engine] DEBUG: Crawled (200) <GET https://pastebin.com/xAnq4mPa> (referer: None)\n",
      "2018-05-01 18:41:10 [scrapy.core.engine] DEBUG: Crawled (200) <GET https://pastebin.com/gDLeQ1ga> (referer: None)\n",
      "2018-05-01 18:41:11 [scrapy.core.engine] DEBUG: Crawled (200) <GET https://pastebin.com/rTkjxuR7> (referer: None)\n",
      "2018-05-01 18:41:13 [scrapy.core.engine] DEBUG: Crawled (200) <GET https://pastebin.com/CEFbbf4w> (referer: None)\n",
      "2018-05-01 18:41:16 [scrapy.core.engine] DEBUG: Crawled (200) <GET https://pastebin.com/h7RgStHS> (referer: None)\n",
      "2018-05-01 18:41:17 [scrapy.core.engine] DEBUG: Crawled (200) <GET https://pastebin.com/HrCX4A5K> (referer: None)\n",
      "2018-05-01 18:41:19 [scrapy.core.engine] DEBUG: Crawled (200) <GET https://pastebin.com/3DwQPmN0> (referer: None)\n",
      "2018-05-01 18:41:21 [scrapy.core.engine] DEBUG: Crawled (200) <GET https://pastebin.com/nfUNYeEG> (referer: None)\n",
      "2018-05-01 18:41:24 [scrapy.core.engine] DEBUG: Crawled (200) <GET https://pastebin.com/RJkmxRWS> (referer: None)\n",
      "2018-05-01 18:41:31 [scrapy.core.engine] DEBUG: Crawled (200) <GET https://pastebin.com/StTTHYZ8> (referer: None)\n",
      "2018-05-01 18:41:34 [scrapy.core.engine] DEBUG: Crawled (200) <GET https://pastebin.com/fUZXjtK6> (referer: None)\n",
      "2018-05-01 18:41:36 [scrapy.core.engine] DEBUG: Crawled (200) <GET https://pastebin.com/JKbwNbsE> (referer: None)\n"
     ]
    }
   ],
   "source": [
    "process = CrawlerProcess()\n",
    "process.crawl(MySpider)\n",
    "process.start()"
   ]
  },
  {
   "cell_type": "code",
   "execution_count": null,
   "metadata": {
    "collapsed": true
   },
   "outputs": [],
   "source": []
  }
 ],
 "metadata": {
  "anaconda-cloud": {},
  "kernelspec": {
   "display_name": "Python [default]",
   "language": "python",
   "name": "python2"
  },
  "language_info": {
   "codemirror_mode": {
    "name": "ipython",
    "version": 2
   },
   "file_extension": ".py",
   "mimetype": "text/x-python",
   "name": "python",
   "nbconvert_exporter": "python",
   "pygments_lexer": "ipython2",
   "version": "2.7.12"
  }
 },
 "nbformat": 4,
 "nbformat_minor": 1
}
